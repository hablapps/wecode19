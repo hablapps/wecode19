{
 "cells": [
  {
   "cell_type": "markdown",
   "metadata": {},
   "source": [
    "# Preamble"
   ]
  },
  {
   "cell_type": "code",
   "execution_count": 1,
   "metadata": {},
   "outputs": [
    {
     "data": {
      "text/plain": [
       "defined \u001b[32mtrait\u001b[39m \u001b[36mConventionalIO\u001b[39m\n",
       "defined \u001b[32mobject\u001b[39m \u001b[36mConsoleConvIO\u001b[39m\n",
       "defined \u001b[32mtrait\u001b[39m \u001b[36mIO\u001b[39m\n",
       "defined \u001b[32mtrait\u001b[39m \u001b[36mMonad\u001b[39m\n",
       "defined \u001b[32mtype\u001b[39m \u001b[36mId\u001b[39m\n",
       "defined \u001b[32mobject\u001b[39m \u001b[36mConsoleIO\u001b[39m\n",
       "defined \u001b[32mclass\u001b[39m \u001b[36mIOState\u001b[39m\n",
       "defined \u001b[32mtype\u001b[39m \u001b[36mIOTrans\u001b[39m\n",
       "defined \u001b[32mobject\u001b[39m \u001b[36mStateIO\u001b[39m\n",
       "defined \u001b[32mobject\u001b[39m \u001b[36mStateMonad\u001b[39m"
      ]
     },
     "execution_count": 1,
     "metadata": {},
     "output_type": "execute_result"
    }
   ],
   "source": [
    "// Conventional APIs & Instances\n",
    "\n",
    "trait ConventionalIO{\n",
    "  def read(): String\n",
    "  def write(msg: String): Unit\n",
    "}\n",
    "\n",
    "object ConsoleConvIO extends ConventionalIO{\n",
    "  def read() = readLine()\n",
    "  def write(msg: String) = println(msg)\n",
    "}\n",
    "\n",
    "// Functional APIs\n",
    "\n",
    "trait IO[P[_]]{\n",
    "  def read(): P[String]\n",
    "  def write(msg: String): P[Unit]\n",
    "}\n",
    "\n",
    "trait Monad[P[_]]{\n",
    "  def returns[A](a: A): P[A]\n",
    "  def flatMap[A,B](p: P[A])(f: A => P[B]): P[B]\n",
    "}\n",
    "\n",
    "// API Instances\n",
    "\n",
    "type Id[T] = T \n",
    "\n",
    "object ConsoleIO extends IO[Id]{\n",
    "  def read() = readLine()\n",
    "  def write(msg: String) = println(msg)\n",
    "}\n",
    "\n",
    "case class IOState(read: List[String], written: List[String])\n",
    "\n",
    "type IOTrans[T] = IOState => (IOState, T)\n",
    "\n",
    "object StateIO extends IO[IOTrans]{\n",
    "  def read(): IOTrans[String] = {\n",
    "    case IOState(msg::readsTail, writes) =>\n",
    "      (IOState(readsTail, writes), msg)\n",
    "    case _ => throw new Exception(\"not enough data to be read\")\n",
    "  }\n",
    "\n",
    "  def write(msg: String): IOTrans[Unit] = {\n",
    "    case IOState(reads, writes) =>\n",
    "      (IOState(reads, msg::writes), ())\n",
    "  }\n",
    "}\n",
    "\n",
    "object StateMonad extends Monad[IOTrans]{\n",
    "  def flatMap[A,B](p: IOTrans[A])(f: A => IOTrans[B]): IOTrans[B] =\n",
    "    iostate1 => p(iostate1) match {\n",
    "      case (iostate2, a) => f(a)(iostate2)\n",
    "    }\n",
    "\n",
    "  def returns[A](a: A): IOTrans[A] =\n",
    "    iostate => (iostate, a)\n",
    "}"
   ]
  },
  {
   "cell_type": "markdown",
   "metadata": {},
   "source": [
    "# Exercise 1"
   ]
  },
  {
   "cell_type": "markdown",
   "metadata": {},
   "source": [
    "Write a program that reads from the standard input and says whether it's\n",
    "even or ordd.\n",
    "\n",
    "For instance:\n",
    "\n",
    "    scala> writeANumber\n",
    "    << type \"8\" >>\n",
    "    8 is even\n",
    "\n",
    "    scala> writeANumber\n",
    "    << type \"5\" >>\n",
    "    5 is odd"
   ]
  },
  {
   "cell_type": "code",
   "execution_count": 2,
   "metadata": {},
   "outputs": [
    {
     "data": {
      "text/plain": [
       "defined \u001b[32mfunction\u001b[39m \u001b[36mevenOdd\u001b[39m"
      ]
     },
     "execution_count": 2,
     "metadata": {},
     "output_type": "execute_result"
    }
   ],
   "source": [
    "// Helper method\n",
    "def evenOdd(n: String): String =\n",
    "if (n.toInt % 2 == 0)\n",
    "  s\"$n es un número par\"\n",
    "else\n",
    "  s\"$n es un número impar\""
   ]
  },
  {
   "cell_type": "code",
   "execution_count": 3,
   "metadata": {},
   "outputs": [
    {
     "data": {
      "text/plain": [
       "defined \u001b[32mobject\u001b[39m \u001b[36mConventional1\u001b[39m"
      ]
     },
     "execution_count": 3,
     "metadata": {},
     "output_type": "execute_result"
    }
   ],
   "source": [
    "object Conventional1{\n",
    "  def writeANumber(io: ConventionalIO): Unit = {\n",
    "    val num = io.read\n",
    "    io.write(evenOdd(num))\n",
    "  }\n",
    "}"
   ]
  },
  {
   "cell_type": "code",
   "execution_count": null,
   "metadata": {},
   "outputs": [],
   "source": [
    "object Declarative1{\n",
    "  def writeANumber[F[_]](io: IO[F], m: Monad[F]): F[Unit] =\n",
    "   ???\n",
    "}"
   ]
  },
  {
   "cell_type": "code",
   "execution_count": null,
   "metadata": {},
   "outputs": [],
   "source": [
    "val ios = IOState(\"3\" :: Nil, Nil)\n",
    "val ios2 = IOState(\"4\" :: Nil, Nil)"
   ]
  },
  {
   "cell_type": "code",
   "execution_count": null,
   "metadata": {},
   "outputs": [],
   "source": [
    "assert(Declarative1.writeANumber[IOTrans](StateIO: IO[IOTrans], StateMonad)(ios) == \n",
    "    (IOState(Nil, \"3 es un número impar\" :: Nil), ()))\n",
    "\n",
    "assert(Declarative1.writeANumber(StateIO, StateMonad)(ios) ==\n",
    "  (IOState(Nil, \"4 es un número par\" :: Nil), ()))"
   ]
  },
  {
   "cell_type": "markdown",
   "metadata": {},
   "source": [
    "# Exercise 2"
   ]
  },
  {
   "cell_type": "markdown",
   "metadata": {},
   "source": [
    "Same as in `Program1` but now the program asks politely\n",
    "for a number to the user.\n",
    "\n",
    "For instance:\n",
    "\n",
    "    scala> runWriteANumber2\n",
    "    Please, type a number:\n",
    "    << type 8 >>\n",
    "    8 is even\n"
   ]
  },
  {
   "cell_type": "code",
   "execution_count": null,
   "metadata": {},
   "outputs": [],
   "source": [
    "// Impure version\n",
    "\n",
    "object Conventional2{\n",
    "  import Conventional1.writeANumber\n",
    " \n",
    "  def writeANumberBis(io: ConventionalIO): Unit = {\n",
    "    io.write(\"Introduce un número por favor:\")\n",
    "    writeANumber(io)\n",
    "  }\n",
    "}"
   ]
  },
  {
   "cell_type": "code",
   "execution_count": null,
   "metadata": {},
   "outputs": [],
   "source": [
    "// Declarative version\n",
    "object Declarative2{\n",
    "  import Declarative1.writeANumber\n",
    "\n",
    "  def writeANumberBis[F[_]](io: IO[F], m: Monad[F]): F[Unit] =\n",
    "    ???\n",
    "}"
   ]
  },
  {
   "cell_type": "code",
   "execution_count": null,
   "metadata": {},
   "outputs": [],
   "source": [
    "assert(Declarative2.writeANumberBis(StateIO, StateMonad)(ios) ==\n",
    "  (IOState(Nil, \"3 es un número impar\" :: \"Introduce un número por favor:\" :: Nil), ()))\n",
    "\n",
    "assert(Declarative2.writeANumberBis(StateIO, StateMonad)(ios) ==\n",
    "  (IOState(Nil, \"4 es un número par\" :: \"Introduce un número por favor:\" :: Nil), ()))"
   ]
  },
  {
   "cell_type": "markdown",
   "metadata": {},
   "source": [
    "# Exercise 3"
   ]
  },
  {
   "cell_type": "markdown",
   "metadata": {},
   "source": [
    "Write a program that reads lines continously until it's read\n",
    "the word \"exit\"\n",
    "\n",
    "For instance:\n",
    "\n",
    "    scala> readUntilExit\n",
    "    <<type \"hi\" and enter>>\n",
    "    <<type \"bye\" and enter>>\n",
    "    <<type \"exit\" and enter>>"
   ]
  },
  {
   "cell_type": "code",
   "execution_count": null,
   "metadata": {},
   "outputs": [],
   "source": [
    "object Conventional3{\n",
    "\n",
    "  def readUntilExit(io: ConventionalIO): Unit = {\n",
    "    val msg = io.read()\n",
    "    if (msg == \"exit\") ()\n",
    "    else readUntilExit(io)\n",
    "  }\n",
    "}"
   ]
  },
  {
   "cell_type": "code",
   "execution_count": null,
   "metadata": {},
   "outputs": [],
   "source": [
    "object Declarative3{\n",
    "\n",
    "  def readUntilExit[F[_]](io: IO[F], m: Monad[F]): F[Unit] =\n",
    "    ???\n",
    "}"
   ]
  },
  {
   "cell_type": "code",
   "execution_count": null,
   "metadata": {},
   "outputs": [],
   "source": [
    "val ios3 = IOState(\"uno\" :: \"dos\" :: \"tres\" :: \"exit\" :: Nil, Nil)\n",
    "val ios4 = IOState(\"uno\" :: \"dos\" :: \"tres\" :: \"exit\" :: \"otro\" :: Nil, Nil)"
   ]
  },
  {
   "cell_type": "code",
   "execution_count": null,
   "metadata": {},
   "outputs": [],
   "source": [
    "assert(Declarative3.readUntilExit(StateIO, StateMonad)(ios) ==\n",
    "        (IOState(Nil, Nil), ()))\n",
    "\n",
    "assert(Declarative3.readUntilExit(StateIO, StateMonad)(ios) ==\n",
    "        (IOState(\"otro\" :: Nil, Nil), ()))"
   ]
  }
 ],
 "metadata": {
  "kernelspec": {
   "display_name": "Scala",
   "language": "scala",
   "name": "scala"
  },
  "language_info": {
   "codemirror_mode": "text/x-scala",
   "file_extension": ".scala",
   "mimetype": "text/x-scala",
   "name": "scala",
   "nbconvert_exporter": "script",
   "version": "2.12.8"
  }
 },
 "nbformat": 4,
 "nbformat_minor": 2
}
